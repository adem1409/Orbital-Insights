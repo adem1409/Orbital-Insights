{
 "cells": [
  {
   "cell_type": "code",
   "execution_count": 1,
   "id": "71770722-9297-4c20-95fd-56b1bb577165",
   "metadata": {},
   "outputs": [],
   "source": [
    "import pandas as pd"
   ]
  },
  {
   "cell_type": "code",
   "execution_count": 2,
   "id": "04c917da-b0ed-4eea-bfb7-db7e603469fb",
   "metadata": {},
   "outputs": [],
   "source": [
    "satellites_file = \"./raw_datasets/UCS-Satellite-Database 5-1-2023.xlsx\""
   ]
  },
  {
   "cell_type": "code",
   "execution_count": 3,
   "id": "4ef9a7d8-9c32-44f6-906e-10857db22257",
   "metadata": {},
   "outputs": [],
   "source": [
    "columns_to_read = [\n",
    "    'Current Official Name of Satellite',\n",
    "    'Operator/Owner',\n",
    "    'Country of Operator/Owner',\n",
    "    'Contractor',\n",
    "    'Country of Contractor',\n",
    "    'Purpose',\n",
    "    'Users',\n",
    "    'Class of Orbit',\n",
    "    'Period (minutes)',\n",
    "    'Launch Mass (kg.)',\n",
    "    'Date of Launch',\n",
    "    'Expected Lifetime (yrs.)',\n",
    "    'Launch Site',\n",
    "    'Launch Vehicle'\n",
    "]\n",
    "types = {\n",
    "    'Current Official Name of Satellite': 'string',\n",
    "    'Operator/Owner': 'string',\n",
    "    'Country of Operator/Owner': 'string',\n",
    "    'Contractor': 'string',\n",
    "    'Country of Contractor': 'string',\n",
    "    'Purpose': 'string',\n",
    "    'Users': 'string',\n",
    "    'Class of Orbit': 'string',\n",
    "    'Period (minutes)': 'float64',\n",
    "    'Launch Mass (kg.)': 'float64',\n",
    "    'Date of Launch': 'string',\n",
    "    'Expected Lifetime (yrs.)': 'float64',\n",
    "    'Launch Site': 'string',\n",
    "    'Launch Vehicle': 'string'\n",
    "}"
   ]
  },
  {
   "cell_type": "code",
   "execution_count": 4,
   "id": "79461f9c-e994-4446-b309-ff6630a213e4",
   "metadata": {},
   "outputs": [],
   "source": [
    "satellites_df = pd.read_excel(satellites_file,usecols=columns_to_read,dtype=types)"
   ]
  },
  {
   "cell_type": "code",
   "execution_count": 5,
   "id": "2bd41835-58eb-481a-9ee6-70c0b0c5d6e4",
   "metadata": {},
   "outputs": [],
   "source": [
    "satellites_df = satellites_df.rename(columns={\n",
    "    'Current Official Name of Satellite': 'name',\n",
    "    'Operator/Owner': 'operator',\n",
    "    'Country of Operator/Owner': 'country_of_operator',\n",
    "    'Contractor': 'contractor',\n",
    "    'Country of Contractor': 'country_of_contractor',\n",
    "    'Purpose': 'purpose',\n",
    "    'Users': 'users',\n",
    "    'Class of Orbit': 'class_of_orbit',\n",
    "    'Period (minutes)': 'orbit_period',\n",
    "    'Launch Mass (kg.)': 'launch_mass',\n",
    "    'Date of Launch': 'date_of_launch',\n",
    "    'Expected Lifetime (yrs.)': 'expected_lifetime',\n",
    "    'Launch Site': 'launch_site',\n",
    "    'Launch Vehicle': 'launch_vehicle'\n",
    "})\n"
   ]
  },
  {
   "cell_type": "code",
   "execution_count": 6,
   "id": "8e8e3cfa-abd6-45d5-972e-83ea453c56b9",
   "metadata": {},
   "outputs": [],
   "source": [
    "satellites_df['date_of_launch'] = pd.to_datetime(satellites_df['date_of_launch'],format='mixed').dt.date"
   ]
  },
  {
   "cell_type": "code",
   "execution_count": 7,
   "id": "25e65ba6-350d-4ef6-91d6-d498704afa66",
   "metadata": {},
   "outputs": [
    {
     "name": "stdout",
     "output_type": "stream",
     "text": [
      "<class 'pandas.core.frame.DataFrame'>\n",
      "RangeIndex: 7560 entries, 0 to 7559\n",
      "Data columns (total 14 columns):\n",
      " #   Column                 Non-Null Count  Dtype  \n",
      "---  ------                 --------------  -----  \n",
      " 0   name                   7560 non-null   string \n",
      " 1   country_of_operator    7560 non-null   string \n",
      " 2   operator               7560 non-null   string \n",
      " 3   users                  7560 non-null   string \n",
      " 4   purpose                7560 non-null   string \n",
      " 5   class_of_orbit         7560 non-null   string \n",
      " 6   orbit_period           7504 non-null   float64\n",
      " 7   launch_mass            7315 non-null   float64\n",
      " 8   date_of_launch         7559 non-null   object \n",
      " 9   expected_lifetime      5450 non-null   float64\n",
      " 10  contractor             7560 non-null   string \n",
      " 11  country_of_contractor  7560 non-null   string \n",
      " 12  launch_site            7560 non-null   string \n",
      " 13  launch_vehicle         7560 non-null   string \n",
      "dtypes: float64(3), object(1), string(10)\n",
      "memory usage: 827.0+ KB\n"
     ]
    }
   ],
   "source": [
    "satellites_df.info()"
   ]
  },
  {
   "cell_type": "code",
   "execution_count": null,
   "id": "f78b6957-5ca9-4142-9d2d-1a13cbffaffb",
   "metadata": {},
   "outputs": [],
   "source": [
    "# Remplacer les valeurs manquantes de la column orbit_period par la médiane de chaque classe d'orbite\n",
    "satellites_df['orbit_period'] = satellites_df['orbit_period'].fillna(\n",
    "    satellites_df.groupby('class_of_orbit')['orbit_period'].transform('median')\n",
    ")"
   ]
  },
  {
   "cell_type": "code",
   "execution_count": null,
   "id": "87e218a4-63bc-48ef-a436-33704aa08d94",
   "metadata": {},
   "outputs": [],
   "source": [
    "satellites_df['country_of_operator'] = satellites_df['country_of_operator'].str.split('/')"
   ]
  },
  {
   "cell_type": "code",
   "execution_count": null,
   "id": "ff9a5c15-ba0a-4240-9a27-4bff162bfa59",
   "metadata": {},
   "outputs": [],
   "source": [
    "satellites_df['country_of_contractor'] = satellites_df['country_of_contractor'].str.split('/')"
   ]
  },
  {
   "cell_type": "code",
   "execution_count": null,
   "id": "0a08c784-7938-41d8-8b4a-cc33bdf7ee90",
   "metadata": {},
   "outputs": [],
   "source": [
    "satellites_df.to_excel(\"./extracted_data/sattelites.xlsx\", index=False) "
   ]
  }
 ],
 "metadata": {
  "kernelspec": {
   "display_name": "Python 3 (ipykernel)",
   "language": "python",
   "name": "python3"
  },
  "language_info": {
   "codemirror_mode": {
    "name": "ipython",
    "version": 3
   },
   "file_extension": ".py",
   "mimetype": "text/x-python",
   "name": "python",
   "nbconvert_exporter": "python",
   "pygments_lexer": "ipython3",
   "version": "3.12.2"
  }
 },
 "nbformat": 4,
 "nbformat_minor": 5
}
