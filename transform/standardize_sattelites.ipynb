{
 "cells": [
  {
   "cell_type": "code",
   "execution_count": 1,
   "id": "96ac3d4d-e1eb-472d-85ba-b20dcc5a26d4",
   "metadata": {},
   "outputs": [],
   "source": [
    "import pandas as pd\n",
    "from fuzzywuzzy import process\n",
    "import re"
   ]
  },
  {
   "cell_type": "code",
   "execution_count": null,
   "id": "99193c82-dc4f-4913-a0d1-7a37c82eb766",
   "metadata": {},
   "outputs": [],
   "source": [
    "sattelites_df = pd.read_excel(\"../data/extracted_data/sattelites.xlsx\")"
   ]
  },
  {
   "cell_type": "code",
   "execution_count": null,
   "id": "3a529bf9-6eef-4162-935b-566885711e6e",
   "metadata": {},
   "outputs": [],
   "source": [
    "launches_df= pd.read_excel(\"../data/standardized_data/launches.xlsx\")"
   ]
  },
  {
   "cell_type": "code",
   "execution_count": 4,
   "id": "7c28f117-5890-4154-bd86-902883523e40",
   "metadata": {},
   "outputs": [],
   "source": [
    "standard_launch_site_names = launches_df[\"space_port\"].unique()"
   ]
  },
  {
   "cell_type": "code",
   "execution_count": 5,
   "id": "55d23239-7127-49ac-a44b-0abcf1d68a6b",
   "metadata": {},
   "outputs": [],
   "source": [
    "def fuzzy_match(name,target_names):\n",
    "    match, score = process.extractOne(name, target_names)\n",
    "    return match if score > 85 else None  # Tune threshold as needed"
   ]
  },
  {
   "cell_type": "code",
   "execution_count": 6,
   "id": "51b12f3e-3872-4f27-bc44-91712b3c7986",
   "metadata": {},
   "outputs": [],
   "source": [
    "sattelites_df[\"standard_launch_site\"] = sattelites_df[\"launch_site\"].apply( lambda x: fuzzy_match(x,standard_launch_site_names))"
   ]
  },
  {
   "cell_type": "code",
   "execution_count": 7,
   "id": "7efd7ad7-6387-4a76-8739-c7c0ac1f938a",
   "metadata": {},
   "outputs": [],
   "source": [
    "unmatched_launch_sites_df=sattelites_df[sattelites_df[\"standard_launch_site\"].isna()][\"launch_site\"]"
   ]
  },
  {
   "cell_type": "code",
   "execution_count": 8,
   "id": "af75cf2e-b5f5-4a1e-b549-f7ea8f94ad62",
   "metadata": {},
   "outputs": [
    {
     "data": {
      "text/plain": [
       "launch_site\n",
       "Wenchang Space Center    28\n",
       "Kodiak Island            21\n",
       "Cygnus                   15\n",
       "FANTM-RAiL [Xtenti]       5\n",
       "Kwajalein Island          2\n",
       "Antares                   1\n",
       "Stargazer L-1011          1\n",
       "FANTM-RAiL (Xtenti)       1\n",
       "Name: count, dtype: int64"
      ]
     },
     "execution_count": 8,
     "metadata": {},
     "output_type": "execute_result"
    }
   ],
   "source": [
    "unmatched_launch_sites_df.value_counts()"
   ]
  },
  {
   "cell_type": "code",
   "execution_count": 9,
   "id": "e105c865-2ebc-43d8-8cad-da1e7386fb4a",
   "metadata": {},
   "outputs": [],
   "source": [
    "launch_site_manual_map = {\n",
    "    \"Wenchang Space Center\": \"Wenchang Space Launch Site\",\n",
    "    \"Kodiak Island\": \"Pacific Spaceport Complex\",\n",
    "}"
   ]
  },
  {
   "cell_type": "code",
   "execution_count": 10,
   "id": "f4c17caf-b58e-4189-a2e7-7cb4b9b07b34",
   "metadata": {},
   "outputs": [],
   "source": [
    "sattelites_df[\"standard_launch_site\"] = sattelites_df[\"standard_launch_site\"].fillna(\n",
    "    sattelites_df[\"launch_site\"].map(launch_site_manual_map)\n",
    ")"
   ]
  },
  {
   "cell_type": "code",
   "execution_count": 11,
   "id": "e11d9e46-5dda-4e06-8d46-335cdc6b68be",
   "metadata": {},
   "outputs": [],
   "source": [
    "unmatched_launch_sites_df=sattelites_df[sattelites_df[\"standard_launch_site\"].isna()][\"launch_site\"]"
   ]
  },
  {
   "cell_type": "code",
   "execution_count": 12,
   "id": "cbe46677-31b2-44ef-9fed-875a831d17f5",
   "metadata": {},
   "outputs": [
    {
     "data": {
      "text/plain": [
       "launch_site\n",
       "Cygnus                 15\n",
       "FANTM-RAiL [Xtenti]     5\n",
       "Kwajalein Island        2\n",
       "Antares                 1\n",
       "Stargazer L-1011        1\n",
       "FANTM-RAiL (Xtenti)     1\n",
       "Name: count, dtype: int64"
      ]
     },
     "execution_count": 12,
     "metadata": {},
     "output_type": "execute_result"
    }
   ],
   "source": [
    "unmatched_launch_sites_df.value_counts()"
   ]
  },
  {
   "cell_type": "code",
   "execution_count": 13,
   "id": "bca2ac9d-a0ab-4473-a6d6-ebdde42ae217",
   "metadata": {},
   "outputs": [],
   "source": [
    "sattelites_df = sattelites_df.dropna(subset=[\"standard_launch_site\"])"
   ]
  },
  {
   "cell_type": "code",
   "execution_count": null,
   "id": "bbaaca6d-d4d2-4976-9667-0db26407ba95",
   "metadata": {},
   "outputs": [],
   "source": [
    "rockets_df = pd.read_excel(\"../data/extracted_data/rockets.xlsx\")"
   ]
  },
  {
   "cell_type": "code",
   "execution_count": 15,
   "id": "8dda6208-8f85-40cd-8b4f-a68829d299d1",
   "metadata": {},
   "outputs": [],
   "source": [
    "standard_rocket_names = rockets_df[\"name\"].unique()"
   ]
  },
  {
   "cell_type": "code",
   "execution_count": null,
   "id": "94d97c6e-20e8-41bc-b44c-04ab8686d9b6",
   "metadata": {},
   "outputs": [],
   "source": [
    "sattelites_df[\"standard_rocket_name\"] = sattelites_df[\"launch_vehicle\"].apply(\n",
    "   lambda x: fuzzy_match(x,standard_rocket_names)\n",
    ")"
   ]
  },
  {
   "cell_type": "code",
   "execution_count": null,
   "id": "f0c8eb2c-d8e8-41a7-99c3-4412a9e46a43",
   "metadata": {},
   "outputs": [],
   "source": [
    "unmatched_rockets_df=sattelites_df[sattelites_df[\"standard_rocket_name\"].isna()]"
   ]
  },
  {
   "cell_type": "code",
   "execution_count": null,
   "id": "87586557-15d4-4a2c-a314-b8bad0348faf",
   "metadata": {},
   "outputs": [],
   "source": [
    "unmatched_rockets_df[\"launch_vehicle\"].value_counts()"
   ]
  },
  {
   "cell_type": "code",
   "execution_count": null,
   "id": "dce9f644-07d7-478c-a444-f57e9fe4f6b3",
   "metadata": {},
   "outputs": [],
   "source": [
    "rockets_manual_map = {\n",
    "    \"H2A\": \"H-IIA 202\",\n",
    "    \"LVM3\": \"GSLV Mk III\",\n",
    "    \"PSLV-C29\": \"PSLV-CA\",\n",
    "    \"PSLV C16\": \"PSLV-CA\",\n",
    "    \"PSLV C17\": \"PSLV-CA\",\n",
    "    \"PSLV C17\": \"PSLV-CA\",\n",
    "}"
   ]
  },
  {
   "cell_type": "code",
   "execution_count": null,
   "id": "76602918-7a40-459d-8321-c763403260c8",
   "metadata": {},
   "outputs": [],
   "source": [
    "sattelites_df[\"standard_rocket_name\"] = sattelites_df[\"standard_rocket_name\"].fillna(\n",
    "    sattelites_df[\"launch_vehicle\"].map(rockets_manual_map)\n",
    ")"
   ]
  },
  {
   "cell_type": "code",
   "execution_count": null,
   "id": "1ac06bc5-3c75-4341-afbf-e5fec2d240ff",
   "metadata": {},
   "outputs": [],
   "source": [
    "unmatched_rockets_df=sattelites_df[sattelites_df[\"standard_rocket_name\"].isna()]"
   ]
  },
  {
   "cell_type": "code",
   "execution_count": null,
   "id": "c88bf12c-07c5-4149-bc6f-7002a9256903",
   "metadata": {},
   "outputs": [],
   "source": [
    "unmatched_rockets_df[\"launch_vehicle\"].value_counts()"
   ]
  },
  {
   "cell_type": "code",
   "execution_count": null,
   "id": "d7771aa4-52bd-43f4-8a14-d0d5d1a3b635",
   "metadata": {},
   "outputs": [],
   "source": [
    "sattelites_df = sattelites_df.dropna(subset=[\"standard_rocket_name\"])"
   ]
  },
  {
   "cell_type": "code",
   "execution_count": null,
   "id": "03623908-10a7-40de-acad-69fdf33b6e0c",
   "metadata": {},
   "outputs": [],
   "source": [
    "sattelites_df.drop(columns=[\"launch_vehicle\", \"launch_site\"], inplace=True)"
   ]
  },
  {
   "cell_type": "code",
   "execution_count": null,
   "id": "ab300338-c5ca-4bac-8b81-4c518de408a7",
   "metadata": {},
   "outputs": [],
   "source": [
    "sattelites_df.rename(columns={\n",
    "    \"standard_rocket_name\": \"rocket_name\",\n",
    "    \"standard_launch_site\": \"launch_site\",\n",
    "}, inplace=True)"
   ]
  },
  {
   "cell_type": "code",
   "execution_count": null,
   "id": "8b181c73-cab0-4c2c-b384-441155bd5bb2",
   "metadata": {},
   "outputs": [],
   "source": [
    "sattelites_df.to_excel(\"../data/standardized_data/sattelites.xlsx\",index=False) "
   ]
  }
 ],
 "metadata": {
  "kernelspec": {
   "display_name": "Python 3 (ipykernel)",
   "language": "python",
   "name": "python3"
  },
  "language_info": {
   "codemirror_mode": {
    "name": "ipython",
    "version": 3
   },
   "file_extension": ".py",
   "mimetype": "text/x-python",
   "name": "python",
   "nbconvert_exporter": "python",
   "pygments_lexer": "ipython3",
   "version": "3.12.2"
  }
 },
 "nbformat": 4,
 "nbformat_minor": 5
}
