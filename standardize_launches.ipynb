{
 "cells": [
  {
   "cell_type": "code",
   "execution_count": 1,
   "id": "a2b0a628-f9cd-4ab8-8f4d-403c160dfe77",
   "metadata": {},
   "outputs": [],
   "source": [
    "import pandas as pd"
   ]
  },
  {
   "cell_type": "code",
   "execution_count": 2,
   "id": "13b196e6-466a-42d3-8aa0-1ead83237d6d",
   "metadata": {},
   "outputs": [],
   "source": [
    "from fuzzywuzzy import process"
   ]
  },
  {
   "cell_type": "code",
   "execution_count": 3,
   "id": "bf8b5706-9573-4020-ad75-864f6c32f01d",
   "metadata": {},
   "outputs": [],
   "source": [
    "import re"
   ]
  },
  {
   "cell_type": "code",
   "execution_count": 4,
   "id": "4838d800-09ad-4c34-b2ee-4dd490e3c981",
   "metadata": {},
   "outputs": [],
   "source": [
    "launches_df = pd.read_excel(\"./extracted_data/launches.xlsx\")"
   ]
  },
  {
   "cell_type": "code",
   "execution_count": 5,
   "id": "ff92bbdd-3f01-46aa-a374-977621949f61",
   "metadata": {},
   "outputs": [],
   "source": [
    "rockets_df = pd.read_excel(\"./extracted_data/rockets.xlsx\")"
   ]
  },
  {
   "cell_type": "code",
   "execution_count": 6,
   "id": "d7edf63b-ca03-46a6-8716-db9a64a251ab",
   "metadata": {},
   "outputs": [],
   "source": [
    "standard_rocket_names = rockets_df[\"name\"].unique()"
   ]
  },
  {
   "cell_type": "code",
   "execution_count": 7,
   "id": "dabeac54-64cd-4799-b492-d92dc45387dd",
   "metadata": {},
   "outputs": [],
   "source": [
    "def fuzzy_match(name,target_names):\n",
    "    match, score = process.extractOne(name, target_names)\n",
    "    return match if score > 85 else None  # Tune threshold as needed"
   ]
  },
  {
   "cell_type": "code",
   "execution_count": 8,
   "id": "de4ec72f-d7d6-4695-b67e-a47a4eff6ec8",
   "metadata": {},
   "outputs": [],
   "source": [
    "# Apply fuzzy matching where no exact match was found\n",
    "launches_df[\"standard_rocket_name\"] = launches_df[\"rocket\"].apply(lambda x: fuzzy_match(x, standard_rocket_names) or None)"
   ]
  },
  {
   "cell_type": "code",
   "execution_count": 9,
   "id": "69e7d6e2-e9b9-4b45-91de-0d2c72b2186e",
   "metadata": {},
   "outputs": [],
   "source": [
    "unmatched_rockets = launches_df[launches_df[\"standard_rocket_name\"].isna()][\"rocket\"].dropna().unique()"
   ]
  },
  {
   "cell_type": "code",
   "execution_count": 10,
   "id": "0edef280-9940-421b-9bd1-bdb7877a64ef",
   "metadata": {},
   "outputs": [
    {
     "data": {
      "text/plain": [
       "30"
      ]
     },
     "execution_count": 10,
     "metadata": {},
     "output_type": "execute_result"
    }
   ],
   "source": [
    "len(unmatched_rockets)"
   ]
  },
  {
   "cell_type": "code",
   "execution_count": 11,
   "id": "ee43c13d-344f-4a26-b488-4a8f8c882ba9",
   "metadata": {},
   "outputs": [],
   "source": [
    "launches_df.to_excel(\"standard_names_launches.xlsx\",columns=[\"rocket\",\"standard_rocket_name\"]) "
   ]
  },
  {
   "cell_type": "code",
   "execution_count": 12,
   "id": "e34857f2-04a6-4454-9f58-d5a7f9155f8c",
   "metadata": {},
   "outputs": [],
   "source": [
    "unmatched = launches_df[launches_df[\"standard_rocket_name\"].isna()]"
   ]
  },
  {
   "cell_type": "code",
   "execution_count": 13,
   "id": "a412f728-6b72-4da9-ad39-dff5dd1b682d",
   "metadata": {},
   "outputs": [
    {
     "data": {
      "text/plain": [
       "rocket\n",
       "Kosmos 11K63                    126\n",
       "R-36O 8K69                       21\n",
       "Little Joe                        8\n",
       "Kosmos 65S3                       8\n",
       "Project Pilot                     6\n",
       "Lambda 4S                         5\n",
       "K65M-RB                           4\n",
       "UR-500                            4\n",
       "Nike Cajun                        4\n",
       "Kosmos 11K65                      4\n",
       "RS1                               3\n",
       "Nuri                              3\n",
       "Sputnik 11A59                     2\n",
       "R-36O 8K69M                       2\n",
       "Vulcan VC2S                       2\n",
       "Vulcan VC4L                       2\n",
       "Qaem 100                          2\n",
       "Gaganyaan Abort Test Booster      2\n",
       "Orion Abort Test Booster          1\n",
       "SPARK                             1\n",
       "KAIROS                            1\n",
       "Black Brant IX                    1\n",
       "SR75                              1\n",
       "Spectrum                          1\n",
       "RFA One                           1\n",
       "Prime                             1\n",
       "Vulcan VC6L                       1\n",
       "H3                                1\n",
       "ZERO                              1\n",
       "Unknown Launch Vehicle            1\n",
       "Name: count, dtype: int64"
      ]
     },
     "execution_count": 13,
     "metadata": {},
     "output_type": "execute_result"
    }
   ],
   "source": [
    "unmatched[\"rocket\"].value_counts()"
   ]
  },
  {
   "cell_type": "code",
   "execution_count": 14,
   "id": "1bff39a6-a149-424d-9b1e-1974975c3633",
   "metadata": {},
   "outputs": [],
   "source": [
    "rocket_manual_map = {\n",
    "    \"Kosmos 11K63\": \"Cosmos-3 (11K65)\",\n",
    "    \"Kosmos 65S3\": \"Cosmos-1 (65S3)\",\n",
    "    \"UR-500\": \"Proton\",\n",
    "}"
   ]
  },
  {
   "cell_type": "code",
   "execution_count": 15,
   "id": "00776da6-b736-4b57-b41b-d571c60db127",
   "metadata": {},
   "outputs": [],
   "source": [
    "launches_df[\"standard_rocket_name\"] = launches_df[\"standard_rocket_name\"].fillna(\n",
    "    launches_df[\"rocket\"].map(rocket_manual_map)\n",
    ")"
   ]
  },
  {
   "cell_type": "code",
   "execution_count": 16,
   "id": "df4247fe-fbae-4663-a5b4-4bacedac8303",
   "metadata": {},
   "outputs": [],
   "source": [
    "launches_df = launches_df.dropna(subset=[\"standard_rocket_name\"])"
   ]
  },
  {
   "cell_type": "code",
   "execution_count": 17,
   "id": "62921a53-c5ee-402a-ade6-cb8c05230011",
   "metadata": {},
   "outputs": [],
   "source": [
    "launches_df = launches_df.drop(columns=[\"rocket\"])"
   ]
  },
  {
   "cell_type": "code",
   "execution_count": 19,
   "id": "68c1e8d2-c9f3-416a-99d3-e6d1b676b9d1",
   "metadata": {},
   "outputs": [],
   "source": [
    "launches_df.rename(columns={\"standard_rocket_name\": \"rocket\"}, inplace=True)"
   ]
  },
  {
   "cell_type": "code",
   "execution_count": 20,
   "id": "a7d5ff0b-7080-45e0-b919-00b54d73048c",
   "metadata": {},
   "outputs": [],
   "source": [
    "launches_df.to_excel(\"./standardized_data/launches.xlsx\",index=False) "
   ]
  }
 ],
 "metadata": {
  "kernelspec": {
   "display_name": "Python 3 (ipykernel)",
   "language": "python",
   "name": "python3"
  },
  "language_info": {
   "codemirror_mode": {
    "name": "ipython",
    "version": 3
   },
   "file_extension": ".py",
   "mimetype": "text/x-python",
   "name": "python",
   "nbconvert_exporter": "python",
   "pygments_lexer": "ipython3",
   "version": "3.12.2"
  }
 },
 "nbformat": 4,
 "nbformat_minor": 5
}
