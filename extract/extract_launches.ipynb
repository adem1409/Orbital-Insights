{
 "cells": [
  {
   "cell_type": "code",
   "execution_count": 1,
   "id": "215b1b13-90f6-4c7d-9d67-4cd2ae0caa6b",
   "metadata": {},
   "outputs": [],
   "source": [
    "import pandas as pd"
   ]
  },
  {
   "cell_type": "code",
   "execution_count": null,
   "id": "d4ce5cab-ede7-40cf-90f2-769e9ea92398",
   "metadata": {},
   "outputs": [],
   "source": [
    "launches_file = \"../data/raw_datasets/space_launches_advanced_report.xlsx\""
   ]
  },
  {
   "cell_type": "code",
   "execution_count": 3,
   "id": "845df531-e7e4-4677-b9ef-e1ab9f329b3b",
   "metadata": {},
   "outputs": [],
   "source": [
    "types = {\n",
    "'Name':'string',\n",
    "'Date (Central Time)':'string',\n",
    "'Status':'string',\n",
    "'Provider':'string',\n",
    "'Rocket':'string', 'Mission':'string',\n",
    "'Launch Pad':'string'\n",
    "}"
   ]
  },
  {
   "cell_type": "code",
   "execution_count": 4,
   "id": "c92d434c-4b61-406e-8901-3e2b6d7df85f",
   "metadata": {},
   "outputs": [],
   "source": [
    "launches_df = pd.read_excel(launches_file,sheet_name=\"Space Launches\",dtype=types)"
   ]
  },
  {
   "cell_type": "code",
   "execution_count": 5,
   "id": "58f76e58-d492-46d2-8ba5-e75135b9cca7",
   "metadata": {},
   "outputs": [
    {
     "name": "stdout",
     "output_type": "stream",
     "text": [
      "<class 'pandas.core.frame.DataFrame'>\n",
      "RangeIndex: 7199 entries, 0 to 7198\n",
      "Data columns (total 7 columns):\n",
      " #   Column               Non-Null Count  Dtype \n",
      "---  ------               --------------  ----- \n",
      " 0   Name                 7199 non-null   string\n",
      " 1   Date (Central Time)  7199 non-null   string\n",
      " 2   Status               7199 non-null   string\n",
      " 3   Provider             7199 non-null   string\n",
      " 4   Rocket               7199 non-null   string\n",
      " 5   Mission              7199 non-null   string\n",
      " 6   Launch Pad           7199 non-null   string\n",
      "dtypes: string(7)\n",
      "memory usage: 393.8 KB\n"
     ]
    }
   ],
   "source": [
    "launches_df.info()"
   ]
  },
  {
   "cell_type": "code",
   "execution_count": 6,
   "id": "5ce1ce45-cb86-4deb-b7d5-508bbac7b6d1",
   "metadata": {},
   "outputs": [],
   "source": [
    "launches_df.columns = ['name', 'date', 'status', 'provider', 'rocket', 'mission', 'launch_site']"
   ]
  },
  {
   "cell_type": "code",
   "execution_count": 7,
   "id": "5976e44a-eaac-40d8-9c90-dbe9a6e05b6a",
   "metadata": {},
   "outputs": [
    {
     "data": {
      "text/html": [
       "<div>\n",
       "<style scoped>\n",
       "    .dataframe tbody tr th:only-of-type {\n",
       "        vertical-align: middle;\n",
       "    }\n",
       "\n",
       "    .dataframe tbody tr th {\n",
       "        vertical-align: top;\n",
       "    }\n",
       "\n",
       "    .dataframe thead th {\n",
       "        text-align: right;\n",
       "    }\n",
       "</style>\n",
       "<table border=\"1\" class=\"dataframe\">\n",
       "  <thead>\n",
       "    <tr style=\"text-align: right;\">\n",
       "      <th></th>\n",
       "      <th>name</th>\n",
       "      <th>date</th>\n",
       "      <th>status</th>\n",
       "      <th>provider</th>\n",
       "      <th>rocket</th>\n",
       "      <th>mission</th>\n",
       "      <th>launch_site</th>\n",
       "    </tr>\n",
       "  </thead>\n",
       "  <tbody>\n",
       "    <tr>\n",
       "      <th>0</th>\n",
       "      <td>Sputnik 8K74PS | Sputnik 1</td>\n",
       "      <td>1957-10-04 09:28 AM</td>\n",
       "      <td>Launch Successful</td>\n",
       "      <td>Soviet Space Program</td>\n",
       "      <td>Sputnik 8K74PS</td>\n",
       "      <td>Sputnik 1</td>\n",
       "      <td>1/5 | Baikonur Cosmodrome, Republic of Kazakhstan</td>\n",
       "    </tr>\n",
       "    <tr>\n",
       "      <th>1</th>\n",
       "      <td>Sputnik 8K74PS | Sputnik 2</td>\n",
       "      <td>1957-11-02 02:30 PM</td>\n",
       "      <td>Launch Successful</td>\n",
       "      <td>Soviet Space Program</td>\n",
       "      <td>Sputnik 8K74PS</td>\n",
       "      <td>Sputnik 2</td>\n",
       "      <td>1/5 | Baikonur Cosmodrome, Republic of Kazakhstan</td>\n",
       "    </tr>\n",
       "    <tr>\n",
       "      <th>2</th>\n",
       "      <td>Vanguard | Vanguard</td>\n",
       "      <td>1957-12-06 04:44 AM</td>\n",
       "      <td>Launch Failure</td>\n",
       "      <td>US Navy</td>\n",
       "      <td>Vanguard</td>\n",
       "      <td>Vanguard</td>\n",
       "      <td>Launch Complex 18A | Cape Canaveral, FL, USA</td>\n",
       "    </tr>\n",
       "    <tr>\n",
       "      <th>3</th>\n",
       "      <td>Juno-I | Explorer 1</td>\n",
       "      <td>1958-01-31 03:47 PM</td>\n",
       "      <td>Launch Successful</td>\n",
       "      <td>Army Ballistic Missile Agency</td>\n",
       "      <td>Juno-I</td>\n",
       "      <td>Explorer 1</td>\n",
       "      <td>Launch Complex 26A | Cape Canaveral, FL, USA</td>\n",
       "    </tr>\n",
       "    <tr>\n",
       "      <th>4</th>\n",
       "      <td>Vanguard | Vanguard</td>\n",
       "      <td>1958-02-04 07:33 PM</td>\n",
       "      <td>Launch Failure</td>\n",
       "      <td>US Navy</td>\n",
       "      <td>Vanguard</td>\n",
       "      <td>Vanguard</td>\n",
       "      <td>Launch Complex 18A | Cape Canaveral, FL, USA</td>\n",
       "    </tr>\n",
       "  </tbody>\n",
       "</table>\n",
       "</div>"
      ],
      "text/plain": [
       "                         name                 date             status  \\\n",
       "0  Sputnik 8K74PS | Sputnik 1  1957-10-04 09:28 AM  Launch Successful   \n",
       "1  Sputnik 8K74PS | Sputnik 2  1957-11-02 02:30 PM  Launch Successful   \n",
       "2         Vanguard | Vanguard  1957-12-06 04:44 AM     Launch Failure   \n",
       "3         Juno-I | Explorer 1  1958-01-31 03:47 PM  Launch Successful   \n",
       "4         Vanguard | Vanguard  1958-02-04 07:33 PM     Launch Failure   \n",
       "\n",
       "                        provider          rocket     mission  \\\n",
       "0           Soviet Space Program  Sputnik 8K74PS   Sputnik 1   \n",
       "1           Soviet Space Program  Sputnik 8K74PS   Sputnik 2   \n",
       "2                        US Navy        Vanguard    Vanguard   \n",
       "3  Army Ballistic Missile Agency          Juno-I  Explorer 1   \n",
       "4                        US Navy        Vanguard    Vanguard   \n",
       "\n",
       "                                         launch_site  \n",
       "0  1/5 | Baikonur Cosmodrome, Republic of Kazakhstan  \n",
       "1  1/5 | Baikonur Cosmodrome, Republic of Kazakhstan  \n",
       "2       Launch Complex 18A | Cape Canaveral, FL, USA  \n",
       "3       Launch Complex 26A | Cape Canaveral, FL, USA  \n",
       "4       Launch Complex 18A | Cape Canaveral, FL, USA  "
      ]
     },
     "execution_count": 7,
     "metadata": {},
     "output_type": "execute_result"
    }
   ],
   "source": [
    "launches_df.head()"
   ]
  },
  {
   "cell_type": "code",
   "execution_count": 8,
   "id": "6ab43ce4-ba11-4b94-bfb2-20a205115be4",
   "metadata": {},
   "outputs": [],
   "source": [
    "launches_df['date'] = pd.to_datetime(launches_df['date'])"
   ]
  },
  {
   "cell_type": "code",
   "execution_count": 9,
   "id": "8b4bfe2b-dcc2-4e37-bc11-c368a7ca3bda",
   "metadata": {},
   "outputs": [],
   "source": [
    "launches_df['date']=launches_df['date'].dt.date"
   ]
  },
  {
   "cell_type": "code",
   "execution_count": 10,
   "id": "e4ac50ec-80b6-4742-a355-217685b2f1c5",
   "metadata": {},
   "outputs": [],
   "source": [
    "launches_df[\"status\"] = launches_df[\"status\"].str.replace(\"Launch \", \"\", regex=False)"
   ]
  },
  {
   "cell_type": "code",
   "execution_count": 11,
   "id": "a30d4209-9743-4e6d-a3ff-b5dab8d97d94",
   "metadata": {},
   "outputs": [],
   "source": [
    "launches_df[\"status\"] = launches_df[\"status\"].str.replace(\"Launch was a Partial Failure\", \"Failure\", regex=False)"
   ]
  },
  {
   "cell_type": "code",
   "execution_count": 12,
   "id": "1dcc2e43-5f49-40a6-9c89-9eb93de93655",
   "metadata": {},
   "outputs": [],
   "source": [
    "launches_df[\"status\"] = launches_df[\"status\"].str.replace(\"Successful\", \"Success\", regex=False)"
   ]
  },
  {
   "cell_type": "code",
   "execution_count": 13,
   "id": "09dcfb5a-6584-4a65-a130-fae770b7ebee",
   "metadata": {},
   "outputs": [],
   "source": [
    "launches_df[\"status\"] = launches_df[\"status\"].str.strip()"
   ]
  },
  {
   "cell_type": "code",
   "execution_count": 14,
   "id": "345f77cf-3290-4172-b0c2-0c34b758c2c1",
   "metadata": {},
   "outputs": [],
   "source": [
    "def split_launch_pad(value):\n",
    "    if pd.isna(value):\n",
    "        return [None, None, None]\n",
    "    \n",
    "    if \"|\" in value:\n",
    "        launch_pad, place = value.split(\"|\", 1)\n",
    "        launch_pad = launch_pad.strip()\n",
    "        place = place.strip()\n",
    "        place_parts = place.split(\",\")\n",
    "        if len(place_parts) == 1:\n",
    "            return [launch_pad,place_parts[0].strip(), None]\n",
    "        if len(place_parts) == 2:\n",
    "            return [launch_pad,place_parts[0].strip(), place_parts[1].strip()]\n",
    "        if len(place_parts) == 3:\n",
    "            return [launch_pad,place_parts[0].strip(),place_parts[2].strip()]\n",
    "    else:\n",
    "        return [value.strip(), None, None]\n"
   ]
  },
  {
   "cell_type": "code",
   "execution_count": 15,
   "id": "258226c7-60a8-4741-8d2d-bc179797dd81",
   "metadata": {},
   "outputs": [],
   "source": [
    "launches_df[[\"launch_pad\", \"space_port\", \"country\"]] = launches_df[\"launch_site\"].apply(split_launch_pad).apply(pd.Series)"
   ]
  },
  {
   "cell_type": "code",
   "execution_count": 16,
   "id": "bb074e5b-c933-499e-bba0-6dcb1391d5c1",
   "metadata": {},
   "outputs": [],
   "source": [
    "def extract_mission_from_name(name):\n",
    "    if pd.isna(name):\n",
    "        return None\n",
    "    parts = name.split(\"|\")\n",
    "    return parts[1].strip() if len(parts) > 1 else None"
   ]
  },
  {
   "cell_type": "code",
   "execution_count": 17,
   "id": "aee6d326-b2b8-48ce-9e47-95d5bda0305e",
   "metadata": {},
   "outputs": [],
   "source": [
    "launches_df[\"mission\"] = launches_df.apply(\n",
    "    lambda row: extract_mission_from_name(row[\"name\"]) if pd.isna(row[\"mission\"]) or row[\"mission\"] in [\"\", \"—\"] else row[\"mission\"],\n",
    "    axis=1\n",
    ")"
   ]
  },
  {
   "cell_type": "code",
   "execution_count": 18,
   "id": "1ba6d92a-710f-489f-9c3b-1b4047b1ea7a",
   "metadata": {},
   "outputs": [],
   "source": [
    "# Drop the Name column\n",
    "launches_df.drop(columns=[\"name\"], inplace=True)"
   ]
  },
  {
   "cell_type": "code",
   "execution_count": 19,
   "id": "363ed7e5-8c45-44a8-aa6b-aa66c4495e43",
   "metadata": {},
   "outputs": [],
   "source": [
    "distinct_countries = launches_df['country'].unique()"
   ]
  },
  {
   "cell_type": "code",
   "execution_count": 20,
   "id": "441c4325-8e3d-4a3a-8e79-c9655f092da1",
   "metadata": {},
   "outputs": [
    {
     "data": {
      "text/plain": [
       "array(['Republic of Kazakhstan', 'USA', None, 'Russian Federation',\n",
       "       'French Algeria', 'Japan', 'Kenya', 'French Guiana',\n",
       "       \"People's Republic of China\", 'India', 'State of Israel',\n",
       "       'Federative Republic of Brazil', 'Marshall Islands',\n",
       "       'Islamic Republic of Iran', 'South Korea', nan, 'New Zealand',\n",
       "       'South Australia'], dtype=object)"
      ]
     },
     "execution_count": 20,
     "metadata": {},
     "output_type": "execute_result"
    }
   ],
   "source": [
    "distinct_countries"
   ]
  },
  {
   "cell_type": "code",
   "execution_count": 21,
   "id": "88ad6a9d-ef1b-453e-9c02-72d7df7248d9",
   "metadata": {},
   "outputs": [],
   "source": [
    "def standardize_country(name):\n",
    "    if pd.isna(name):\n",
    "        return None\n",
    "    \n",
    "    name = name.strip()\n",
    "\n",
    "    manual_map = {\n",
    "        \"Republic of Kazakhstan\": \"Kazakhstan\",\n",
    "        \"Russian Federation\": \"Russia\",\n",
    "        \"People's Republic of China\": \"China\",\n",
    "        \"Federative Republic of Brazil\": \"Brazil\",\n",
    "        \"Islamic Republic of Iran\": \"Iran\",\n",
    "        \"French Algeria\": \"Algeria\",\n",
    "        \"State of Israel\": \"Israel\",\n",
    "        \"South Australia\": \"Australia\"\n",
    "    }\n",
    "    if name in manual_map:\n",
    "        return manual_map[name]\n",
    "    return name"
   ]
  },
  {
   "cell_type": "code",
   "execution_count": 22,
   "id": "d1db909b-5532-45ab-a327-db4ec0ed1296",
   "metadata": {},
   "outputs": [],
   "source": [
    "launches_df[\"country\"] = launches_df[\"country\"].apply(standardize_country)"
   ]
  },
  {
   "cell_type": "code",
   "execution_count": 23,
   "id": "3fe8c989-32a8-494e-8ade-6ebb8a97d2ff",
   "metadata": {},
   "outputs": [
    {
     "name": "stdout",
     "output_type": "stream",
     "text": [
      "<class 'pandas.core.frame.DataFrame'>\n",
      "RangeIndex: 7199 entries, 0 to 7198\n",
      "Data columns (total 9 columns):\n",
      " #   Column       Non-Null Count  Dtype \n",
      "---  ------       --------------  ----- \n",
      " 0   date         7199 non-null   object\n",
      " 1   status       7199 non-null   string\n",
      " 2   provider     7199 non-null   string\n",
      " 3   rocket       7199 non-null   string\n",
      " 4   mission      7199 non-null   object\n",
      " 5   launch_site  7199 non-null   string\n",
      " 6   launch_pad   7167 non-null   object\n",
      " 7   space_port   7167 non-null   object\n",
      " 8   country      6961 non-null   object\n",
      "dtypes: object(5), string(4)\n",
      "memory usage: 506.3+ KB\n"
     ]
    }
   ],
   "source": [
    "launches_df.info()"
   ]
  },
  {
   "cell_type": "code",
   "execution_count": null,
   "id": "b07af5e3-004d-4cdf-a0c7-be1b457b8a83",
   "metadata": {},
   "outputs": [],
   "source": [
    "launches_df.to_excel(\"../data/extracted_data/launches.xlsx\", index=False) "
   ]
  }
 ],
 "metadata": {
  "kernelspec": {
   "display_name": "Python 3 (ipykernel)",
   "language": "python",
   "name": "python3"
  },
  "language_info": {
   "codemirror_mode": {
    "name": "ipython",
    "version": 3
   },
   "file_extension": ".py",
   "mimetype": "text/x-python",
   "name": "python",
   "nbconvert_exporter": "python",
   "pygments_lexer": "ipython3",
   "version": "3.12.2"
  }
 },
 "nbformat": 4,
 "nbformat_minor": 5
}
