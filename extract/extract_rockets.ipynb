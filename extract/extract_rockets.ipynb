{
 "cells": [
  {
   "cell_type": "code",
   "execution_count": 1,
   "id": "446ada8f-69ec-475a-8b4b-d08fa2e70dfa",
   "metadata": {},
   "outputs": [],
   "source": [
    "import pandas as pd"
   ]
  },
  {
   "cell_type": "code",
   "execution_count": null,
   "id": "68110fc9-ea35-48f5-9b81-1ac1ccc22e3b",
   "metadata": {},
   "outputs": [],
   "source": [
    "rockets_file = \"../data/raw_datasets/all-rockets-from-1957.csv\""
   ]
  },
  {
   "cell_type": "code",
   "execution_count": 3,
   "id": "b6988152-09f3-4173-a38f-a702ed5ae0e1",
   "metadata": {},
   "outputs": [],
   "source": [
    "columns_to_read = [\n",
    "    'Name',\n",
    "    'Cmp',\n",
    "    'Status',\n",
    "    'Liftoff Thrust',\n",
    "    'Payload to LEO',\n",
    "    'Stages',\n",
    "    'Rocket Height',\n",
    "    'Price',\n",
    "]"
   ]
  },
  {
   "cell_type": "code",
   "execution_count": 4,
   "id": "325b1253-dd33-45db-8ab1-75e5219d92b3",
   "metadata": {},
   "outputs": [],
   "source": [
    "types = {\n",
    "    'Name': 'string',\n",
    "    'Cmp': 'string',\n",
    "    'Status': 'string',\n",
    "    'Liftoff Thrust': 'float64',\n",
    "    'Payload to LEO': 'float64',\n",
    "    'Stages': 'int64',\n",
    "    'Rocket Height': 'float64',\n",
    "    'Price': 'float64',\n",
    "}"
   ]
  },
  {
   "cell_type": "code",
   "execution_count": 5,
   "id": "fe774173-03e5-444e-a5d0-d0e47b113f4b",
   "metadata": {},
   "outputs": [],
   "source": [
    "rockets_df = pd.read_csv(rockets_file,usecols=columns_to_read,dtype='string')"
   ]
  },
  {
   "cell_type": "code",
   "execution_count": 6,
   "id": "28eea113-b0eb-4c66-9b31-81813698b9fa",
   "metadata": {},
   "outputs": [
    {
     "data": {
      "text/html": [
       "<div>\n",
       "<style scoped>\n",
       "    .dataframe tbody tr th:only-of-type {\n",
       "        vertical-align: middle;\n",
       "    }\n",
       "\n",
       "    .dataframe tbody tr th {\n",
       "        vertical-align: top;\n",
       "    }\n",
       "\n",
       "    .dataframe thead th {\n",
       "        text-align: right;\n",
       "    }\n",
       "</style>\n",
       "<table border=\"1\" class=\"dataframe\">\n",
       "  <thead>\n",
       "    <tr style=\"text-align: right;\">\n",
       "      <th></th>\n",
       "      <th>Name</th>\n",
       "      <th>Cmp</th>\n",
       "      <th>Status</th>\n",
       "      <th>Liftoff Thrust</th>\n",
       "      <th>Payload to LEO</th>\n",
       "      <th>Stages</th>\n",
       "      <th>Rocket Height</th>\n",
       "      <th>Price</th>\n",
       "    </tr>\n",
       "  </thead>\n",
       "  <tbody>\n",
       "    <tr>\n",
       "      <th>0</th>\n",
       "      <td>Tsyklon-3</td>\n",
       "      <td>Yuzhmash</td>\n",
       "      <td>Retired</td>\n",
       "      <td>3,032</td>\n",
       "      <td>4.1</td>\n",
       "      <td>3</td>\n",
       "      <td>39.0 m</td>\n",
       "      <td>&lt;NA&gt;</td>\n",
       "    </tr>\n",
       "    <tr>\n",
       "      <th>1</th>\n",
       "      <td>Tsyklon-4M</td>\n",
       "      <td>Yuzhnoye</td>\n",
       "      <td>Planned</td>\n",
       "      <td>3,130</td>\n",
       "      <td>5.0</td>\n",
       "      <td>2</td>\n",
       "      <td>38.7 m</td>\n",
       "      <td>$45.0 million</td>\n",
       "    </tr>\n",
       "    <tr>\n",
       "      <th>2</th>\n",
       "      <td>Unha-2</td>\n",
       "      <td>KCST</td>\n",
       "      <td>Retired</td>\n",
       "      <td>1,192</td>\n",
       "      <td>0.2</td>\n",
       "      <td>3</td>\n",
       "      <td>28.0 m</td>\n",
       "      <td>&lt;NA&gt;</td>\n",
       "    </tr>\n",
       "    <tr>\n",
       "      <th>3</th>\n",
       "      <td>Unha-3</td>\n",
       "      <td>KCST</td>\n",
       "      <td>Active</td>\n",
       "      <td>1,192</td>\n",
       "      <td>0.2</td>\n",
       "      <td>3</td>\n",
       "      <td>32.0 m</td>\n",
       "      <td>&lt;NA&gt;</td>\n",
       "    </tr>\n",
       "    <tr>\n",
       "      <th>4</th>\n",
       "      <td>Vanguard</td>\n",
       "      <td>US Navy</td>\n",
       "      <td>Retired</td>\n",
       "      <td>135</td>\n",
       "      <td>0.01</td>\n",
       "      <td>3</td>\n",
       "      <td>23.0 m</td>\n",
       "      <td>&lt;NA&gt;</td>\n",
       "    </tr>\n",
       "  </tbody>\n",
       "</table>\n",
       "</div>"
      ],
      "text/plain": [
       "         Name       Cmp   Status Liftoff Thrust Payload to LEO Stages  \\\n",
       "0   Tsyklon-3  Yuzhmash  Retired          3,032            4.1      3   \n",
       "1  Tsyklon-4M  Yuzhnoye  Planned          3,130            5.0      2   \n",
       "2      Unha-2      KCST  Retired          1,192            0.2      3   \n",
       "3      Unha-3      KCST   Active          1,192            0.2      3   \n",
       "4    Vanguard   US Navy  Retired            135           0.01      3   \n",
       "\n",
       "  Rocket Height          Price  \n",
       "0        39.0 m           <NA>  \n",
       "1        38.7 m  $45.0 million  \n",
       "2        28.0 m           <NA>  \n",
       "3        32.0 m           <NA>  \n",
       "4        23.0 m           <NA>  "
      ]
     },
     "execution_count": 6,
     "metadata": {},
     "output_type": "execute_result"
    }
   ],
   "source": [
    "rockets_df.head()"
   ]
  },
  {
   "cell_type": "code",
   "execution_count": 7,
   "id": "9db8055c-a201-4bc9-b803-9a0b95805047",
   "metadata": {},
   "outputs": [
    {
     "name": "stdout",
     "output_type": "stream",
     "text": [
      "<class 'pandas.core.frame.DataFrame'>\n",
      "RangeIndex: 409 entries, 0 to 408\n",
      "Data columns (total 8 columns):\n",
      " #   Column          Non-Null Count  Dtype \n",
      "---  ------          --------------  ----- \n",
      " 0   Name            409 non-null    string\n",
      " 1   Cmp             409 non-null    string\n",
      " 2   Status          409 non-null    string\n",
      " 3   Liftoff Thrust  291 non-null    string\n",
      " 4   Payload to LEO  408 non-null    string\n",
      " 5   Stages          405 non-null    string\n",
      " 6   Rocket Height   326 non-null    string\n",
      " 7   Price           98 non-null     string\n",
      "dtypes: string(8)\n",
      "memory usage: 25.7 KB\n"
     ]
    }
   ],
   "source": [
    "rockets_df.info()"
   ]
  },
  {
   "cell_type": "code",
   "execution_count": 8,
   "id": "1f53eaa6-da5d-400d-9261-421ec9d4f3dd",
   "metadata": {},
   "outputs": [],
   "source": [
    "def parse_float(value):\n",
    "    if pd.isna(value):\n",
    "        return None\n",
    "    value = (\n",
    "        value.replace(\",\", \"\")\n",
    "             .replace(\" m\", \"\")\n",
    "             .replace(\"m\", \"\")\n",
    "             .replace(\"$\", \"\")\n",
    "             .replace(\"million\", \"\")\n",
    "             .replace(\"illion\", \"\")\n",
    "             .strip()\n",
    "    )\n",
    "    return float(value)"
   ]
  },
  {
   "cell_type": "code",
   "execution_count": 9,
   "id": "84ed686c-f7b5-4e0f-af7a-bcfc257cba70",
   "metadata": {},
   "outputs": [],
   "source": [
    "# Columns that need to be cleaned and converted to float\n",
    "float_columns = ['Liftoff Thrust', 'Rocket Height', 'Price','Payload to LEO']"
   ]
  },
  {
   "cell_type": "code",
   "execution_count": 10,
   "id": "33c747c8-c2af-4a4b-b3c5-7b017401b580",
   "metadata": {},
   "outputs": [],
   "source": [
    "rockets_df[float_columns] = rockets_df[float_columns].map(parse_float)"
   ]
  },
  {
   "cell_type": "code",
   "execution_count": 11,
   "id": "aed8d434-b712-4063-bd98-53878e278f01",
   "metadata": {},
   "outputs": [],
   "source": [
    "rockets_df['Stages'] = pd.to_numeric(rockets_df['Stages'], errors='coerce').astype('Int64')"
   ]
  },
  {
   "cell_type": "code",
   "execution_count": 13,
   "id": "4d168b71-b84c-43c4-98bd-026df7731d3b",
   "metadata": {},
   "outputs": [],
   "source": [
    "column_renames = {\n",
    "    'Name': 'name',\n",
    "    'Cmp': 'company',\n",
    "    'Status': 'status',\n",
    "    'Liftoff Thrust': 'liftoff_thrust',\n",
    "    'Payload to LEO': 'payload_leo',\n",
    "    'Rocket Height': 'height',\n",
    "    'Price': 'price',\n",
    "    'Stages': 'stages'\n",
    "}"
   ]
  },
  {
   "cell_type": "code",
   "execution_count": 14,
   "id": "2be60054-617d-4345-a264-fbf5e4236733",
   "metadata": {},
   "outputs": [],
   "source": [
    "rockets_df = rockets_df.rename(columns=column_renames)"
   ]
  },
  {
   "cell_type": "code",
   "execution_count": 15,
   "id": "6ee743ba-e107-4f79-a747-ab82f1305ad0",
   "metadata": {},
   "outputs": [
    {
     "name": "stdout",
     "output_type": "stream",
     "text": [
      "<class 'pandas.core.frame.DataFrame'>\n",
      "RangeIndex: 409 entries, 0 to 408\n",
      "Data columns (total 8 columns):\n",
      " #   Column          Non-Null Count  Dtype  \n",
      "---  ------          --------------  -----  \n",
      " 0   name            409 non-null    string \n",
      " 1   company         409 non-null    string \n",
      " 2   status          409 non-null    string \n",
      " 3   liftoff_thrust  291 non-null    float64\n",
      " 4   payload_leo     408 non-null    float64\n",
      " 5   stages          409 non-null    Int64  \n",
      " 6   height          326 non-null    float64\n",
      " 7   price           98 non-null     float64\n",
      "dtypes: Int64(1), float64(4), string(3)\n",
      "memory usage: 26.1 KB\n"
     ]
    }
   ],
   "source": [
    "rockets_df.info()"
   ]
  },
  {
   "cell_type": "code",
   "execution_count": 16,
   "id": "2ef593bd-43d5-4985-9949-a670bbeac946",
   "metadata": {},
   "outputs": [],
   "source": [
    "rockets_df.replace(0, None, inplace=True)"
   ]
  },
  {
   "cell_type": "code",
   "execution_count": null,
   "id": "84ab6f64-1617-4f3b-9efc-396e70a9126f",
   "metadata": {},
   "outputs": [],
   "source": [
    "rockets_df.to_excel(\"../data/extracted_data/rockets.xlsx\", index=False) "
   ]
  }
 ],
 "metadata": {
  "kernelspec": {
   "display_name": "Python 3 (ipykernel)",
   "language": "python",
   "name": "python3"
  },
  "language_info": {
   "codemirror_mode": {
    "name": "ipython",
    "version": 3
   },
   "file_extension": ".py",
   "mimetype": "text/x-python",
   "name": "python",
   "nbconvert_exporter": "python",
   "pygments_lexer": "ipython3",
   "version": "3.12.2"
  }
 },
 "nbformat": 4,
 "nbformat_minor": 5
}
